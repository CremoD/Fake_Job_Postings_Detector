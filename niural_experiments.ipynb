{
 "cells": [
  {
   "cell_type": "markdown",
   "metadata": {},
   "source": [
    "# Niural Test"
   ]
  },
  {
   "cell_type": "code",
   "execution_count": 1,
   "metadata": {},
   "outputs": [],
   "source": [
    "from niural import Niural\n",
    "import pandas as pd\n",
    "from sklearn import datasets\n",
    "import numpy as np"
   ]
  },
  {
   "cell_type": "code",
   "execution_count": 2,
   "metadata": {},
   "outputs": [],
   "source": [
    "iris = datasets.load_iris()\n",
    "\n",
    "X = iris.data[:, :2]  # we only take the first two features.\n",
    "y = iris.target\n",
    "X = pd.DataFrame(X[y != 2])\n",
    "y = pd.DataFrame(y[y != 2])"
   ]
  },
  {
   "cell_type": "code",
   "execution_count": 3,
   "metadata": {},
   "outputs": [
    {
     "name": "stdout",
     "output_type": "stream",
     "text": [
      "Weights\n",
      "[[0.8215141  0.55817017 0.44939763]\n",
      " [0.42212561 0.92486295 0.41435608]\n",
      " [0.86465245 0.74513351 0.34659637]]\n",
      "-------------------------\n",
      "[[0.55038522 0.69847553 0.52034839 0.15505628]]\n",
      "-------------------------\n",
      "Prediction is:\n",
      "[array([5.1, 3.5]), array([0.99473332, 0.99862671, 0.99720722]), array([0.87207588])]\n",
      "Looping over 1\n",
      "-------------------------\n",
      "[[[0.0025145772117586393, 0.0006582425439083701, 0.001336728971143442], [0.0031911661081771864, 0.0008353536679081085, 0.0016963981732532126], [0.002377346213199872, 0.0006223194944303096, 0.0012637780787808433], [0.0007084147054556987, 0.00018544218713217872, 0.0003765875455875936]], [0.8720758770944249]]\n"
     ]
    }
   ],
   "source": [
    "niural = Niural(20, 0.01, 200, [3])\n",
    "\n",
    "#niural.prova()\n",
    "niural.fit(X,y)"
   ]
  },
  {
   "cell_type": "code",
   "execution_count": 4,
   "metadata": {},
   "outputs": [],
   "source": [
    "def sigmoid(number):\n",
    "    return 1/(1 + np.exp(-number))"
   ]
  },
  {
   "cell_type": "code",
   "execution_count": 5,
   "metadata": {},
   "outputs": [],
   "source": [
    "theta1 = niural.weights[0]\n",
    "theta2 = niural.weights[1]"
   ]
  },
  {
   "cell_type": "code",
   "execution_count": 6,
   "metadata": {},
   "outputs": [
    {
     "data": {
      "text/plain": [
       "array([1. , 5.1, 3.5])"
      ]
     },
     "execution_count": 6,
     "metadata": {},
     "output_type": "execute_result"
    }
   ],
   "source": [
    "trainData = X.iloc[0,:].to_numpy()\n",
    "trainData = np.insert(trainData,0,1)\n",
    "trainData"
   ]
  },
  {
   "cell_type": "code",
   "execution_count": 7,
   "metadata": {},
   "outputs": [
    {
     "data": {
      "text/plain": [
       "array([1.        , 0.99473332, 0.99862671, 0.99720722])"
      ]
     },
     "execution_count": 7,
     "metadata": {},
     "output_type": "execute_result"
    }
   ],
   "source": [
    "z1 = np.dot(trainData,np.transpose(theta1))\n",
    "z1 = sigmoid(z1)\n",
    "a1 = np.insert(z1,0,1)\n",
    "a1"
   ]
  },
  {
   "cell_type": "code",
   "execution_count": 8,
   "metadata": {},
   "outputs": [
    {
     "data": {
      "text/plain": [
       "array([1.91943914])"
      ]
     },
     "execution_count": 8,
     "metadata": {},
     "output_type": "execute_result"
    }
   ],
   "source": [
    "z2 = np.dot(a1,np.transpose(theta2))\n",
    "z2"
   ]
  },
  {
   "cell_type": "code",
   "execution_count": 9,
   "metadata": {},
   "outputs": [
    {
     "data": {
      "text/plain": [
       "array([0.87207588])"
      ]
     },
     "execution_count": 9,
     "metadata": {},
     "output_type": "execute_result"
    }
   ],
   "source": [
    "a2 = sigmoid(z2)\n",
    "a2"
   ]
  },
  {
   "cell_type": "code",
   "execution_count": 10,
   "metadata": {
    "scrolled": false
   },
   "outputs": [
    {
     "data": {
      "text/plain": [
       "array([0.87207588])"
      ]
     },
     "execution_count": 10,
     "metadata": {},
     "output_type": "execute_result"
    }
   ],
   "source": [
    "err2 = a2 - y[0][0]\n",
    "err2"
   ]
  },
  {
   "cell_type": "code",
   "execution_count": 11,
   "metadata": {},
   "outputs": [
    {
     "data": {
      "text/plain": [
       "(0, 1, 2)"
      ]
     },
     "execution_count": 11,
     "metadata": {},
     "output_type": "execute_result"
    }
   ],
   "source": [
    "0,1,2\n"
   ]
  },
  {
   "cell_type": "code",
   "execution_count": 12,
   "metadata": {
    "scrolled": true
   },
   "outputs": [
    {
     "data": {
      "text/plain": [
       "array([0.        , 0.00319117, 0.00062232, 0.00037659])"
      ]
     },
     "execution_count": 12,
     "metadata": {},
     "output_type": "execute_result"
    }
   ],
   "source": [
    "err1 = np.dot(np.transpose(theta2),err2) * (a1 * (1 - a1))\n",
    "err1"
   ]
  },
  {
   "cell_type": "code",
   "execution_count": 30,
   "metadata": {},
   "outputs": [
    {
     "name": "stdout",
     "output_type": "stream",
     "text": [
      "[1.  5.1 3.5]\n",
      "[[0.8215141  0.55817017 0.44939763]\n",
      " [0.42212561 0.92486295 0.41435608]\n",
      " [0.86465245 0.74513351 0.34659637]]\n"
     ]
    }
   ],
   "source": [
    "a = np.array([5.1,3.5])\n",
    "a_history = [a]\n",
    "a = np.insert(a,0,1)\n",
    "print(a)\n",
    "print(theta1)\n",
    "z = np.dot(a,np.transpose(theta1))"
   ]
  },
  {
   "cell_type": "code",
   "execution_count": 13,
   "metadata": {},
   "outputs": [
    {
     "data": {
      "text/plain": [
       "array([-0.3,  0.1,  0.2])"
      ]
     },
     "execution_count": 13,
     "metadata": {},
     "output_type": "execute_result"
    }
   ],
   "source": [
    "#classe1,classe2, classe3\n",
    "y_true = np.array([1,0,0])\n",
    "error_output = [0.7,0.1,0.2] - y_true\n",
    "error_output"
   ]
  },
  {
   "cell_type": "code",
   "execution_count": 14,
   "metadata": {},
   "outputs": [],
   "source": [
    "for i in range(5,0):\n",
    "    print(i)"
   ]
  },
  {
   "cell_type": "code",
   "execution_count": 15,
   "metadata": {},
   "outputs": [
    {
     "data": {
      "text/plain": [
       "[1.0, 2.0, -0.13329999999999997]"
      ]
     },
     "execution_count": 15,
     "metadata": {},
     "output_type": "execute_result"
    }
   ],
   "source": [
    "errors = np.array(np.array([0.8667]) - np.array([1]))\n",
    "errors2 = np.concatenate(([1,2], errors.tolist()),axis=0)\n",
    "errors2.tolist()"
   ]
  },
  {
   "cell_type": "code",
   "execution_count": 16,
   "metadata": {},
   "outputs": [
    {
     "data": {
      "text/plain": [
       "[[0.73271106]]"
      ]
     },
     "execution_count": 16,
     "metadata": {},
     "output_type": "execute_result"
    }
   ],
   "source": [
    "errors = [(np.array([0.73271106]) - 0).tolist()]\n",
    "errors"
   ]
  },
  {
   "cell_type": "code",
   "execution_count": 17,
   "metadata": {},
   "outputs": [
    {
     "data": {
      "text/plain": [
       "1"
      ]
     },
     "execution_count": 17,
     "metadata": {},
     "output_type": "execute_result"
    }
   ],
   "source": [
    "i = len(niural.hidden_layer)\n",
    "i"
   ]
  },
  {
   "cell_type": "code",
   "execution_count": 31,
   "metadata": {},
   "outputs": [
    {
     "data": {
      "text/plain": [
       "array([[0.55038522],\n",
       "       [0.69847553],\n",
       "       [0.52034839],\n",
       "       [0.15505628]])"
      ]
     },
     "execution_count": 31,
     "metadata": {},
     "output_type": "execute_result"
    }
   ],
   "source": [
    "np.transpose(niural.weights[1]) "
   ]
  },
  {
   "cell_type": "code",
   "execution_count": 34,
   "metadata": {},
   "outputs": [],
   "source": [
    "new_a1 = np.array([0.99473332, 0.99862671, 0.99720722])\n",
    "term = (new_a1 * (1 - new_a1))"
   ]
  },
  {
   "cell_type": "code",
   "execution_count": 36,
   "metadata": {},
   "outputs": [
    {
     "data": {
      "text/plain": [
       "array([[0.00211273, 0.00055305, 0.00112311],\n",
       "       [0.00268119, 0.00070186, 0.0014253 ],\n",
       "       [0.00199743, 0.00052287, 0.00106182],\n",
       "       [0.0005952 , 0.00015581, 0.00031641]])"
      ]
     },
     "execution_count": 36,
     "metadata": {},
     "output_type": "execute_result"
    }
   ],
   "source": [
    "np.multiply(np.dot(np.transpose(niural.weights[1]),np.array([errors[0]])),term)"
   ]
  },
  {
   "cell_type": "code",
   "execution_count": null,
   "metadata": {},
   "outputs": [],
   "source": [
    "np.array([errors[0]]).shape"
   ]
  },
  {
   "cell_type": "code",
   "execution_count": null,
   "metadata": {},
   "outputs": [],
   "source": [
    "np.array([errors[0]]).shape"
   ]
  }
 ],
 "metadata": {
  "kernelspec": {
   "display_name": "Python 3",
   "language": "python",
   "name": "python3"
  },
  "language_info": {
   "codemirror_mode": {
    "name": "ipython",
    "version": 3
   },
   "file_extension": ".py",
   "mimetype": "text/x-python",
   "name": "python",
   "nbconvert_exporter": "python",
   "pygments_lexer": "ipython3",
   "version": "3.7.3"
  }
 },
 "nbformat": 4,
 "nbformat_minor": 4
}
